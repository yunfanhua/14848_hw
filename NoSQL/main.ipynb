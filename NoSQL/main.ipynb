{
 "cells": [
  {
   "cell_type": "code",
   "execution_count": 7,
   "id": "turned-punishment",
   "metadata": {
    "scrolled": true
   },
   "outputs": [],
   "source": [
    "import boto3"
   ]
  },
  {
   "cell_type": "code",
   "execution_count": 8,
   "id": "domestic-roots",
   "metadata": {},
   "outputs": [],
   "source": [
    "s3 = boto3.resource('s3',\n",
    "aws_access_key_id='',\n",
    "aws_secret_access_key=''\n",
    ")"
   ]
  },
  {
   "cell_type": "code",
   "execution_count": 11,
   "id": "extra-retrieval",
   "metadata": {},
   "outputs": [],
   "source": [
    "try:\n",
    "    s3.create_bucket(Bucket='cloud-infra-hw3', CreateBucketConfiguration={\n",
    "    'LocationConstraint': 'us-west-2'})\n",
    "except Exception as e:\n",
    "    print (e)"
   ]
  },
  {
   "cell_type": "code",
   "execution_count": 12,
   "id": "interracial-faculty",
   "metadata": {},
   "outputs": [],
   "source": [
    "bucket = s3.Bucket('cloud-infra-hw3')"
   ]
  },
  {
   "cell_type": "code",
   "execution_count": 13,
   "id": "parallel-bottle",
   "metadata": {},
   "outputs": [
    {
     "data": {
      "text/plain": [
       "{'ResponseMetadata': {'RequestId': 'YR4B535EZKEXAY3A',\n",
       "  'HostId': '/IGhTi9ANz/mR/OEWHjraEhDhdb6yB9g4o9uHXQzOEP4OpBWXEhNw5tiDar1T/MoR909Kb+S9NM=',\n",
       "  'HTTPStatusCode': 200,\n",
       "  'HTTPHeaders': {'x-amz-id-2': '/IGhTi9ANz/mR/OEWHjraEhDhdb6yB9g4o9uHXQzOEP4OpBWXEhNw5tiDar1T/MoR909Kb+S9NM=',\n",
       "   'x-amz-request-id': 'YR4B535EZKEXAY3A',\n",
       "   'date': 'Thu, 21 Oct 2021 23:51:51 GMT',\n",
       "   'server': 'AmazonS3',\n",
       "   'content-length': '0'},\n",
       "  'RetryAttempts': 1}}"
      ]
     },
     "execution_count": 13,
     "metadata": {},
     "output_type": "execute_result"
    }
   ],
   "source": [
    "bucket.Acl().put(ACL='public-read')"
   ]
  },
  {
   "cell_type": "code",
   "execution_count": 16,
   "id": "acquired-arbitration",
   "metadata": {},
   "outputs": [],
   "source": [
    "body = open('./table/exp1.csv', 'rb')"
   ]
  },
  {
   "cell_type": "code",
   "execution_count": 17,
   "id": "economic-situation",
   "metadata": {},
   "outputs": [],
   "source": [
    "o = s3.Object('cloud-infra-hw3', 'test').put(Body=body )"
   ]
  },
  {
   "cell_type": "code",
   "execution_count": 18,
   "id": "express-universal",
   "metadata": {},
   "outputs": [
    {
     "data": {
      "text/plain": [
       "{'ResponseMetadata': {'RequestId': '5TFS6P5CPXRNRZFY',\n",
       "  'HostId': 'At2LskFkSe+h2xvyo+XE4y9CdW2jWh8rDaLcGINx/3AeyMBdGDOsEoywd5Rqv6viraHCc9mtnnA=',\n",
       "  'HTTPStatusCode': 200,\n",
       "  'HTTPHeaders': {'x-amz-id-2': 'At2LskFkSe+h2xvyo+XE4y9CdW2jWh8rDaLcGINx/3AeyMBdGDOsEoywd5Rqv6viraHCc9mtnnA=',\n",
       "   'x-amz-request-id': '5TFS6P5CPXRNRZFY',\n",
       "   'date': 'Thu, 21 Oct 2021 23:54:41 GMT',\n",
       "   'server': 'AmazonS3',\n",
       "   'content-length': '0'},\n",
       "  'RetryAttempts': 0}}"
      ]
     },
     "execution_count": 18,
     "metadata": {},
     "output_type": "execute_result"
    }
   ],
   "source": [
    "s3.Object('cloud-infra-hw3', 'test').Acl().put(ACL='public-read')"
   ]
  },
  {
   "cell_type": "code",
   "execution_count": 19,
   "id": "contained-calculator",
   "metadata": {},
   "outputs": [],
   "source": [
    "dyndb = boto3.resource('dynamodb',\n",
    "region_name='us-west-2',\n",
    "aws_access_key_id='',\n",
    "aws_secret_access_key=''\n",
    ")"
   ]
  },
  {
   "cell_type": "code",
   "execution_count": 20,
   "id": "polished-patrol",
   "metadata": {},
   "outputs": [],
   "source": [
    "try:\n",
    "    table = dyndb.create_table(\n",
    "    TableName='DataTable',\n",
    "    KeySchema=[\n",
    "    {\n",
    "    'AttributeName': 'PartitionKey',\n",
    "    'KeyType': 'HASH'\n",
    "    },\n",
    "    {\n",
    "    'AttributeName': 'RowKey',\n",
    "    'KeyType': 'RANGE'\n",
    "    }\n",
    "    ],\n",
    "    AttributeDefinitions=[\n",
    "    {\n",
    "    'AttributeName': 'PartitionKey',\n",
    "    'AttributeType': 'S'\n",
    "    },\n",
    "    {\n",
    "    'AttributeName': 'RowKey',\n",
    "    'AttributeType': 'S'\n",
    "    },\n",
    "    ],\n",
    "    ProvisionedThroughput={\n",
    "    'ReadCapacityUnits': 5,\n",
    "    'WriteCapacityUnits': 5\n",
    "    }\n",
    "    )\n",
    "except Exception as e:\n",
    "    print (e)\n",
    "    #if there is an exception, the table may already exist. if so...\n",
    "    table = dyndb.Table(\"DataTable\")"
   ]
  },
  {
   "cell_type": "code",
   "execution_count": 21,
   "id": "encouraging-logic",
   "metadata": {},
   "outputs": [],
   "source": [
    "table.meta.client.get_waiter('table_exists').wait(TableName='DataTable')"
   ]
  },
  {
   "cell_type": "code",
   "execution_count": 22,
   "id": "correct-wedding",
   "metadata": {},
   "outputs": [
    {
     "name": "stdout",
     "output_type": "stream",
     "text": [
      "0\n"
     ]
    }
   ],
   "source": [
    "print(table.item_count)"
   ]
  },
  {
   "cell_type": "code",
   "execution_count": 23,
   "id": "imposed-sandwich",
   "metadata": {},
   "outputs": [],
   "source": [
    "import csv"
   ]
  },
  {
   "cell_type": "code",
   "execution_count": 35,
   "id": "analyzed-apparel",
   "metadata": {},
   "outputs": [
    {
     "name": "stdout",
     "output_type": "stream",
     "text": [
      "['1', '-1', '52', '3.4', 'exp1.csv']\n",
      "['2', '-2', '52.1', '3.4', 'exp2.csv']\n",
      "['3', '-2.93', '57.1', '3.7', 'exp3.csv']\n"
     ]
    }
   ],
   "source": [
    "with open('./table/experiments.csv', 'r', encoding='utf-8-sig') as csvfile:\n",
    "    csvf = csv.reader(csvfile, delimiter=',', quotechar='|')\n",
    "    for item in csvf:\n",
    "        if item[0] == 'Id':\n",
    "            continue\n",
    "        print(item)\n",
    "        body = open('./table/'+item[4], 'rb')\n",
    "        s3.Object('cloud-infra-hw3', item[4]).put(Body=body )\n",
    "        md = s3.Object('cloud-infra-hw3', item[4]).Acl().put(ACL='public-read')\n",
    "        url = \" https://s3-us-west-2.amazonaws.com/cloud-infra-hw3/\"+item[4]\n",
    "        metadata_item = {'PartitionKey': 'experiment'+item[0], 'RowKey': item[0],\n",
    "        'Temp' : item[1], 'Conductivity' : item[2], 'Concentration': item[3], 'url':url}\n",
    "        try:\n",
    "            table.put_item(Item=metadata_item)\n",
    "        except:\n",
    "            print(\"item may already be there or another failure\")"
   ]
  },
  {
   "cell_type": "code",
   "execution_count": 36,
   "id": "linear-constant",
   "metadata": {},
   "outputs": [
    {
     "name": "stdout",
     "output_type": "stream",
     "text": [
      "{'Temp': '-2.93', 'RowKey': '3', 'Conductivity': '57.1', 'Concentration': '3.7', 'PartitionKey': 'experiment3', 'url': ' https://s3-us-west-2.amazonaws.com/cloud-infra-hw3/exp3.csv'}\n"
     ]
    }
   ],
   "source": [
    "response = table.get_item(\n",
    "Key={\n",
    "'PartitionKey': 'experiment3',\n",
    "'RowKey': '3'\n",
    "}\n",
    ")\n",
    "item = response['Item']\n",
    "print(item)"
   ]
  },
  {
   "cell_type": "code",
   "execution_count": 37,
   "id": "alike-updating",
   "metadata": {},
   "outputs": [
    {
     "data": {
      "text/plain": [
       "{'Item': {'Temp': '-2.93',\n",
       "  'RowKey': '3',\n",
       "  'Conductivity': '57.1',\n",
       "  'Concentration': '3.7',\n",
       "  'PartitionKey': 'experiment3',\n",
       "  'url': ' https://s3-us-west-2.amazonaws.com/cloud-infra-hw3/exp3.csv'},\n",
       " 'ResponseMetadata': {'RequestId': 'A2EK8KP73RGH90ICCGP82VDMD7VV4KQNSO5AEMVJF66Q9ASUAAJG',\n",
       "  'HTTPStatusCode': 200,\n",
       "  'HTTPHeaders': {'server': 'Server',\n",
       "   'date': 'Fri, 22 Oct 2021 00:31:22 GMT',\n",
       "   'content-type': 'application/x-amz-json-1.0',\n",
       "   'content-length': '216',\n",
       "   'connection': 'keep-alive',\n",
       "   'x-amzn-requestid': 'A2EK8KP73RGH90ICCGP82VDMD7VV4KQNSO5AEMVJF66Q9ASUAAJG',\n",
       "   'x-amz-crc32': '3887122851'},\n",
       "  'RetryAttempts': 0}}"
      ]
     },
     "execution_count": 37,
     "metadata": {},
     "output_type": "execute_result"
    }
   ],
   "source": [
    "response"
   ]
  },
  {
   "cell_type": "code",
   "execution_count": null,
   "id": "bizarre-essay",
   "metadata": {},
   "outputs": [],
   "source": []
  }
 ],
 "metadata": {
  "kernelspec": {
   "display_name": "Python 3",
   "language": "python",
   "name": "python3"
  },
  "language_info": {
   "codemirror_mode": {
    "name": "ipython",
    "version": 3
   },
   "file_extension": ".py",
   "mimetype": "text/x-python",
   "name": "python",
   "nbconvert_exporter": "python",
   "pygments_lexer": "ipython3",
   "version": "3.7.9"
  }
 },
 "nbformat": 4,
 "nbformat_minor": 5
}
