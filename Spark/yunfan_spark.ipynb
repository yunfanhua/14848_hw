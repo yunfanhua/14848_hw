{
 "cells": [
  {
   "cell_type": "code",
   "execution_count": 15,
   "id": "5319fee8",
   "metadata": {},
   "outputs": [],
   "source": [
    "from pyspark import SparkConf, SparkContext\n",
    "from os import listdir\n",
    "from os.path import isfile, join"
   ]
  },
  {
   "cell_type": "code",
   "execution_count": 22,
   "id": "484ef438",
   "metadata": {},
   "outputs": [],
   "source": [
    "STOPSET = {'they', 'she', 'he', 'it', 'the', 'as', 'is', 'and', ''} \n",
    "def rdd_helper(file):\n",
    "    words_rdd = sc.textFile(file).flatMap(lambda line: line.split(\" \")).filter(lambda word: word not in STOPSET)\n",
    "    pair_rdd = words_rdd.map(lambda word: (word, 1)).reduceByKey(lambda a, b: a + b)\n",
    "    flipped = pair_rdd.map(lambda x: (x[1], x[0]))\n",
    "    return flipped.mapValues(lambda x: (file, x))\n",
    "    \n",
    "\n",
    "def top(input_files):\n",
    "    words_rdd = None\n",
    "    for file in input_files:\n",
    "        temp_rdd = rdd_helper(file)\n",
    "        if words_rdd is not None:\n",
    "            words_rdd = temp_rdd.union(words_rdd)\n",
    "        else:\n",
    "            words_rdd = temp_rdd\n",
    "    return words_rdd.sortByKey(False)"
   ]
  },
  {
   "cell_type": "code",
   "execution_count": 23,
   "id": "9d9df220",
   "metadata": {},
   "outputs": [
    {
     "name": "stderr",
     "output_type": "stream",
     "text": [
      "                                                                                \r"
     ]
    }
   ],
   "source": [
    "InputPath = '/notebooks/InputFiles/'\n",
    "input_files = [f for f in listdir(InputPath) if isfile(join(InputPath, f))]\n",
    "input_files = [InputPath + x for x in input_files]\n",
    "conf = SparkConf()\n",
    "sc = SparkContext.getOrCreate(conf=conf)\n",
    "output = top(input_files)"
   ]
  },
  {
   "cell_type": "code",
   "execution_count": 31,
   "id": "13dbe673",
   "metadata": {},
   "outputs": [
    {
     "name": "stderr",
     "output_type": "stream",
     "text": [
      "                                                                                \r"
     ]
    }
   ],
   "source": [
    "output.coalesce(1, shuffle = True).saveAsTextFile('notebooks/output')\n"
   ]
  },
  {
   "cell_type": "code",
   "execution_count": 27,
   "id": "0a74fd8c",
   "metadata": {},
   "outputs": [
    {
     "name": "stderr",
     "output_type": "stream",
     "text": [
      "IOPub data rate exceeded.\n",
      "The notebook server will temporarily stop sending output\n",
      "to the client in order to avoid crashing it.\n",
      "To change this limit, set the config variable\n",
      "`--NotebookApp.iopub_data_rate_limit`.\n",
      "\n",
      "Current values:\n",
      "NotebookApp.iopub_data_rate_limit=1000000.0 (bytes/sec)\n",
      "NotebookApp.rate_limit_window=3.0 (secs)\n",
      "\n"
     ]
    }
   ],
   "source": []
  },
  {
   "cell_type": "code",
   "execution_count": null,
   "id": "2f602422",
   "metadata": {},
   "outputs": [],
   "source": []
  }
 ],
 "metadata": {
  "kernelspec": {
   "display_name": "Python 3 (ipykernel)",
   "language": "python",
   "name": "python3"
  },
  "language_info": {
   "codemirror_mode": {
    "name": "ipython",
    "version": 3
   },
   "file_extension": ".py",
   "mimetype": "text/x-python",
   "name": "python",
   "nbconvert_exporter": "python",
   "pygments_lexer": "ipython3",
   "version": "3.9.7"
  }
 },
 "nbformat": 4,
 "nbformat_minor": 5
}
